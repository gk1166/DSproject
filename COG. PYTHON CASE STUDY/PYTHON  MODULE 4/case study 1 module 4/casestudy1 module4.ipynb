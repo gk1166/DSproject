{
 "cells": [
  {
   "cell_type": "code",
   "execution_count": 156,
   "id": "1d611e2e",
   "metadata": {},
   "outputs": [],
   "source": [
    "# 1. Extract data from the given SalaryGender CSV file and \n",
    "# store the data from each column in a separate NumPy array\n",
    "import numpy as np\n",
    "import pandas as pd\n",
    "data=pd.read_csv(\"SalaryGender.csv\")\n",
    "salary=np.array(data['Salary'])\n",
    "gender=np.array(data['Gender'])\n",
    "age=np.array(data['Age'])\n",
    "phd=np.array(data['PhD'])"
   ]
  },
  {
   "cell_type": "code",
   "execution_count": 157,
   "id": "81aa4b2a",
   "metadata": {},
   "outputs": [
    {
     "name": "stdout",
     "output_type": "stream",
     "text": [
      "MEN WITH PHD:  24\n",
      "WOMEN WITH PHD:  15\n"
     ]
    }
   ],
   "source": [
    "# 2. Find: 1. The number of men with a PhD\n",
    "#     2. The number of women with a PhD\n",
    "m_ph,w_ph,m=0,0,0\n",
    "for i in range(0,len(salary)):\n",
    "    if(phd[i]==1):\n",
    "        if(gender[i]==1):\n",
    "            m_ph+=1\n",
    "        if(gender[i]==0):\n",
    "            w_ph+=1\n",
    "print(\"MEN WITH PHD: \",m_ph)\n",
    "print(\"WOMEN WITH PHD: \",w_ph)\n"
   ]
  },
  {
   "cell_type": "code",
   "execution_count": 158,
   "id": "45e3050c",
   "metadata": {},
   "outputs": [
    {
     "data": {
      "text/html": [
       "<div>\n",
       "<style scoped>\n",
       "    .dataframe tbody tr th:only-of-type {\n",
       "        vertical-align: middle;\n",
       "    }\n",
       "\n",
       "    .dataframe tbody tr th {\n",
       "        vertical-align: top;\n",
       "    }\n",
       "\n",
       "    .dataframe thead th {\n",
       "        text-align: right;\n",
       "    }\n",
       "</style>\n",
       "<table border=\"1\" class=\"dataframe\">\n",
       "  <thead>\n",
       "    <tr style=\"text-align: right;\">\n",
       "      <th></th>\n",
       "      <th>Age</th>\n",
       "      <th>PhD</th>\n",
       "    </tr>\n",
       "  </thead>\n",
       "  <tbody>\n",
       "    <tr>\n",
       "      <th>0</th>\n",
       "      <td>47</td>\n",
       "      <td>1</td>\n",
       "    </tr>\n",
       "    <tr>\n",
       "      <th>1</th>\n",
       "      <td>65</td>\n",
       "      <td>1</td>\n",
       "    </tr>\n",
       "    <tr>\n",
       "      <th>4</th>\n",
       "      <td>53</td>\n",
       "      <td>1</td>\n",
       "    </tr>\n",
       "    <tr>\n",
       "      <th>8</th>\n",
       "      <td>44</td>\n",
       "      <td>1</td>\n",
       "    </tr>\n",
       "    <tr>\n",
       "      <th>9</th>\n",
       "      <td>63</td>\n",
       "      <td>1</td>\n",
       "    </tr>\n",
       "  </tbody>\n",
       "</table>\n",
       "</div>"
      ],
      "text/plain": [
       "   Age  PhD\n",
       "0   47    1\n",
       "1   65    1\n",
       "4   53    1\n",
       "8   44    1\n",
       "9   63    1"
      ]
     },
     "execution_count": 158,
     "metadata": {},
     "output_type": "execute_result"
    }
   ],
   "source": [
    "# 3. Use SalaryGender CSV file. Store the “Age” and “PhD” columns in one DataFrame and \n",
    "# delete the data of all people who don’t have a PhD\n",
    "dataframe=data[data['PhD']!=0]\n",
    "new_data=dataframe.filter(['Age','PhD'],axis=1)\n",
    "new_data.head()"
   ]
  },
  {
   "cell_type": "code",
   "execution_count": 159,
   "id": "ac3e2200",
   "metadata": {},
   "outputs": [
    {
     "data": {
      "text/plain": [
       "39"
      ]
     },
     "execution_count": 159,
     "metadata": {},
     "output_type": "execute_result"
    }
   ],
   "source": [
    "# 4. Calculate the total number of people who have a PhD degree\n",
    "# from SalaryGender CSV file.\n",
    "phd_total=data[data['PhD']!=0]\n",
    "len(phd_total)"
   ]
  },
  {
   "cell_type": "code",
   "execution_count": 160,
   "id": "ecca3cb3",
   "metadata": {},
   "outputs": [
    {
     "name": "stdout",
     "output_type": "stream",
     "text": [
      "[4 2 1 1 3 2 0 0 0 1]\n"
     ]
    }
   ],
   "source": [
    "# 5. How do you Count The Number Of Times Each Value Appears In An Array Of Integers?\n",
    "# [0, 5, 4, 0, 4, 4, 3, 0, 0, 5, 2, 1, 1, 9]\n",
    "# Answer should be array([4, 2, 1, 1, 3, 2, 0, 0, 0, 1]) which means 0 comes 4 time\n",
    "# s, 1 comes 2 times, 2 comes 1 time, 3 comes 1 time and so on.\n",
    "import numpy as np\n",
    "a=np.array([0,5,4,0,4,4,3,0,0,5,2,1,1,9])\n",
    "print(np.bincount(a))\n"
   ]
  },
  {
   "cell_type": "code",
   "execution_count": 164,
   "id": "c64afb10",
   "metadata": {},
   "outputs": [
    {
     "data": {
      "text/plain": [
       "[[6, 7, 8], [9, 10, 11]]"
      ]
     },
     "execution_count": 164,
     "metadata": {},
     "output_type": "execute_result"
    }
   ],
   "source": [
    "# 6. Create a numpy array [[0, 1, 2], [ 3, 4, 5], [ 6, 7, 8],[ 9, 10, 11]]) \n",
    "# and filter the elements greater than 5.\n",
    "a=[]\n",
    "arr=np.array([[0, 1, 2], [ 3, 4, 5], [ 6, 7, 8],[ 9, 10, 11]])\n",
    "for i in range(0,len(arr)):\n",
    "    a.append(list(filter(lambda x: x > 5,arr[i])))\n",
    "list(filter(None,a))"
   ]
  },
  {
   "cell_type": "code",
   "execution_count": 162,
   "id": "a3eac797",
   "metadata": {},
   "outputs": [
    {
     "name": "stdout",
     "output_type": "stream",
     "text": [
      "[1. 2. 3. 4. 5.]\n"
     ]
    }
   ],
   "source": [
    "# 7. Create a numpy array having NaN (Not a Number) and print it.\n",
    "# array([ nan, 1., 2., nan, 3., 4., 5.])\n",
    "# Print the same array omitting all elements which are nan\n",
    "import numpy as np\n",
    "a=np.array([np.nan,1,2,np.nan,3,4,5])\n",
    "p=np.logical_not(np.isnan(a))\n",
    "print(a[p])"
   ]
  },
  {
   "cell_type": "code",
   "execution_count": 188,
   "id": "05c7d002",
   "metadata": {},
   "outputs": [
    {
     "name": "stdout",
     "output_type": "stream",
     "text": [
      "[ 3.  5.  7.  5.  1. 19. 15. 19.  5. 13.]\n",
      "1.0\n",
      "19.0\n"
     ]
    }
   ],
   "source": [
    "# 8. Create a 10x10 array with random values and \n",
    "# find the minimum and maximum values.\n",
    "import random \n",
    "import numpy as np\n",
    "number=np.array([])\n",
    "for i in range(1,11):\n",
    "    number=np.append(number,np.random.randint(1,20))\n",
    "print(number)\n",
    "print(np.min(number))\n",
    "print(np.max(number))"
   ]
  },
  {
   "cell_type": "code",
   "execution_count": 198,
   "id": "46f04283",
   "metadata": {},
   "outputs": [
    {
     "name": "stdout",
     "output_type": "stream",
     "text": [
      "0.5399275443114533\n"
     ]
    }
   ],
   "source": [
    "# 9. Create a random vector of size 30 and find the mean value.\n",
    "import numpy as np\n",
    "num=np.random.random(30)\n",
    "print(np.mean(num))"
   ]
  },
  {
   "cell_type": "code",
   "execution_count": 207,
   "id": "5e1a192c",
   "metadata": {},
   "outputs": [
    {
     "name": "stdout",
     "output_type": "stream",
     "text": [
      "[ 0  1  2  3 -4 -5 -6 -7 -8  9 10]\n"
     ]
    }
   ],
   "source": [
    "# 10. Create numpy array having elements 0 to 10 \n",
    "# And negate all the elements between 3 and 9\n",
    "import numpy as np\n",
    "arr=np.arange(0,11)\n",
    "arr[4:9]=np.multiply(arr[4:9],-1)\n",
    "print(arr)"
   ]
  },
  {
   "cell_type": "code",
   "execution_count": 238,
   "id": "68af91b1",
   "metadata": {},
   "outputs": [
    {
     "name": "stdout",
     "output_type": "stream",
     "text": [
      "[[8 5 6]\n",
      " [2 3 5]\n",
      " [1 0 5]]\n",
      "[[1 0 5]\n",
      " [2 3 5]\n",
      " [8 5 6]]\n"
     ]
    }
   ],
   "source": [
    "# 11. Create a random array of 3 rows and 3 columns and \n",
    "# sort it according to 1st column, 2nd column or 3rd column.\n",
    "a=np.array([[8,5,6],[2,3,5],[1,0,5]])\n",
    "b=np.sort(a,axis=0)\n",
    "print(a)\n",
    "print(b)"
   ]
  },
  {
   "cell_type": "code",
   "execution_count": 321,
   "id": "a67d50d9",
   "metadata": {},
   "outputs": [
    {
     "name": "stdout",
     "output_type": "stream",
     "text": [
      "[[[ 24  28  32  36]\n",
      "  [ 88  92  96 100]\n",
      "  [152 156 160 164]\n",
      "  [216 220 224 228]]\n",
      "\n",
      " [[280 284 288 292]\n",
      "  [344 348 352 356]\n",
      "  [408 412 416 420]\n",
      "  [472 476 480 484]]\n",
      "\n",
      " [[536 540 544 548]\n",
      "  [600 604 608 612]\n",
      "  [664 668 672 676]\n",
      "  [728 732 736 740]]\n",
      "\n",
      " [[792 796 800 804]\n",
      "  [856 860 864 868]\n",
      "  [920 924 928 932]\n",
      "  [984 988 992 996]]] and\n",
      "[[[   6   22   38   54]\n",
      "  [  70   86  102  118]\n",
      "  [ 134  150  166  182]\n",
      "  [ 198  214  230  246]]\n",
      "\n",
      " [[ 262  278  294  310]\n",
      "  [ 326  342  358  374]\n",
      "  [ 390  406  422  438]\n",
      "  [ 454  470  486  502]]\n",
      "\n",
      " [[ 518  534  550  566]\n",
      "  [ 582  598  614  630]\n",
      "  [ 646  662  678  694]\n",
      "  [ 710  726  742  758]]\n",
      "\n",
      " [[ 774  790  806  822]\n",
      "  [ 838  854  870  886]\n",
      "  [ 902  918  934  950]\n",
      "  [ 966  982  998 1014]]]\n"
     ]
    }
   ],
   "source": [
    "# 12. Create a four dimensions array get sum over the last two axis at once.\n",
    "a=np.arange(256).reshape(4,4,4,4)\n",
    "b=np.sum(a,axis=2)\n",
    "c=np.sum(a,axis=3)\n",
    "print(b,\"and\")\n",
    "print(c)"
   ]
  },
  {
   "cell_type": "code",
   "execution_count": 308,
   "id": "33e4460d",
   "metadata": {},
   "outputs": [
    {
     "name": "stdout",
     "output_type": "stream",
     "text": [
      "[[ 0  1  2  3  4]\n",
      " [ 5  6  7  8  9]\n",
      " [10 11 12 13 14]]\n",
      "[[ 5  6  7  8  9]\n",
      " [ 0  1  2  3  4]\n",
      " [10 11 12 13 14]]\n"
     ]
    }
   ],
   "source": [
    "# 13. Create a random array and swap two rows of an array.\n",
    "import numpy as np\n",
    "a=np.arange(15).reshape(3,5)\n",
    "print(a)\n",
    "a[[0,1]]=a[[1,0]]\n",
    "print(a)"
   ]
  },
  {
   "cell_type": "code",
   "execution_count": 328,
   "id": "da44ed17",
   "metadata": {},
   "outputs": [
    {
     "name": "stdout",
     "output_type": "stream",
     "text": [
      "2\n"
     ]
    }
   ],
   "source": [
    "# 14. Create a random matrix and Compute a matrix rank.\n",
    "import numpy as np\n",
    "a=np.arange(30).reshape(6,5)\n",
    "rank=np.linalg.matrix_rank(a)\n",
    "print(rank)"
   ]
  },
  {
   "cell_type": "code",
   "execution_count": 73,
   "id": "a1754735",
   "metadata": {},
   "outputs": [
    {
     "name": "stdout",
     "output_type": "stream",
     "text": [
      "               reduced_lunch  school_rating\n",
      "reduced_lunch       1.000000      -0.815757\n",
      "school_rating      -0.815757       1.000000\n"
     ]
    },
    {
     "data": {
      "image/png": "[encoded data removed]",
      "text/plain": [
       "<Figure size 1152x576 with 1 Axes>"
      ]
     },
     "metadata": {
      "needs_background": "light"
     },
     "output_type": "display_data"
    },
    {
     "data": {
      "image/png": "[encoded data removed]",
      "text/plain": [
       "<Figure size 936x720 with 2 Axes>"
      ]
     },
     "metadata": {
      "needs_background": "light"
     },
     "output_type": "display_data"
    }
   ],
   "source": [
    "# 15 question refer case study 1 in module 4\n",
    "import seaborn as sns \n",
    "import matplotlib.pyplot as plt\n",
    "import pandas as pd\n",
    "import numpy as np\n",
    "data_s=pd.read_csv(\"middle_tn_schools.csv\")               #phase 1\n",
    "data_reduced=data_s.filter(['reduced_lunch'],axis=1)\n",
    "data_rating=data_s.filter(['school_rating'],axis=1)       #phase 2\n",
    "grouped_data=data_s.groupby(['school_rating']).mean()\n",
    "corr_data=data_s.filter(['reduced_lunch','school_rating'],axis=1)   #phase 3\n",
    "corr_result=corr_data.corr()                           \n",
    "print(corr_result)\n",
    "data_s.drop(['name','school_type'],axis=1,inplace=True)\n",
    "plt.figure(figsize=(16,8))                                           #phase 4\n",
    "a= sns.regplot(data=corr_data, x='reduced_lunch', y='school_rating')\n",
    "corr = data_s.corr()\n",
    "m, data_map = plt.subplots(figsize=(13,10)) \n",
    "m = sns.heatmap(corr,data_map=data_map,cmap='coolwarm')            #phase 5              #phase 5"
   ]
  },
  {
   "cell_type": "code",
   "execution_count": null,
   "id": "c2621daa",
   "metadata": {},
   "outputs": [],
   "source": []
  }
 ],
 "metadata": {
  "kernelspec": {
   "display_name": "Python 3",
   "language": "python",
   "name": "python3"
  },
  "language_info": {
   "codemirror_mode": {
    "name": "ipython",
    "version": 3
   },
   "file_extension": ".py",
   "mimetype": "text/x-python",
   "name": "python",
   "nbconvert_exporter": "python",
   "pygments_lexer": "ipython3",
   "version": "3.8.8"
  }
 },
 "nbformat": 4,
 "nbformat_minor": 5
}
