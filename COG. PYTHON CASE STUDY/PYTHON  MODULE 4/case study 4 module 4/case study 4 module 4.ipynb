{
 "cells": [
  {
   "cell_type": "code",
   "execution_count": 1,
   "id": "a22b1c77",
   "metadata": {},
   "outputs": [
    {
     "data": {
      "image/png": "[encoded data removed]",
      "text/plain": [
       "<Figure size 432x288 with 1 Axes>"
      ]
     },
     "metadata": {
      "needs_background": "light"
     },
     "output_type": "display_data"
    }
   ],
   "source": [
    "# 1. Plot Total Sales Per Month for Year 2011.\n",
    "# How the total sales have increased over months in Year 2011.\n",
    "# Which month has lowest Sales?\n",
    "import pandas as pd \n",
    "import matplotlib.pyplot as plt\n",
    "df=pd.read_csv(\"BigMartSalesData.csv\")\n",
    "data_2011=df[df['Year']==2011]\n",
    "month_2011=df['Month'].tolist()\n",
    "amount_2011=df['Amount'].tolist()\n",
    "month_set=[set(month_2011)]\n",
    "plt.plot(month_2011,amount_2011,label=\"2011 month wise sales\")\n",
    "plt.xlabel(\"month\")\n",
    "plt.xticks([1,2,3,4,5,6,7,8,9,10,11,12])\n",
    "plt.ylabel(\"sales\")\n",
    "plt.show()"
   ]
  },
  {
   "cell_type": "code",
   "execution_count": null,
   "id": "b6222427",
   "metadata": {},
   "outputs": [],
   "source": [
    "# 1. Plot Total Sales Per Month for Year 2011.\n",
    "# How the total sales have increased over months in Year 2011.\n",
    "# Which month has lowest Sales?\n",
    "import pandas as pd \n",
    "import matplotlib.pyplot as plt\n",
    "df=pd.read_csv(\"BigMartSalesData.csv\")\n",
    "data_2011=df[df['Year']==2011]\n",
    "month_2011=df['Month'].tolist()\n",
    "amount_2011=df['Amount'].tolist()\n",
    "month_set=[set(month_2011)]\n",
    "plt.plot(month_2011,amount_2011,label=\"2011 month wise sales\")\n",
    "plt.xlabel(\"month\")\n",
    "plt.xticks([1,2,3,4,5,6,7,8,9,10,11,12])\n",
    "plt.ylabel(\"sales\")\n",
    "plt.show()"
   ]
  },
  {
   "cell_type": "code",
   "execution_count": null,
   "id": "190a1b6f",
   "metadata": {},
   "outputs": [],
   "source": []
  }
 ],
 "metadata": {
  "kernelspec": {
   "display_name": "Python 3",
   "language": "python",
   "name": "python3"
  },
  "language_info": {
   "codemirror_mode": {
    "name": "ipython",
    "version": 3
   },
   "file_extension": ".py",
   "mimetype": "text/x-python",
   "name": "python",
   "nbconvert_exporter": "python",
   "pygments_lexer": "ipython3",
   "version": "3.8.8"
  }
 },
 "nbformat": 4,
 "nbformat_minor": 5
}
