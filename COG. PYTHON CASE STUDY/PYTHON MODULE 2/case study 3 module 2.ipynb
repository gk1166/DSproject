{
 "cells": [
  {
   "cell_type": "code",
   "execution_count": 45,
   "id": "7b4fefb3",
   "metadata": {},
   "outputs": [
    {
     "name": "stdout",
     "output_type": "stream",
     "text": [
      "enter reference id: mukesh@9787R\n",
      "encrypted msg: b'Th\\xe9\\xea\\x05-&\\xed\\xab\\x192\\x1f\\x82\\xe3\\xe5D\\xeenw\\xdb\\x9e\\x8a\\xf5yd\\xf2\\xca\\xbf\\xf9\\xc1\\xa9\\xf2\\x88\\xa9\\xeb5\\xc4\\xb4AQ\\xf0b/d\\xf2\\xd5\\xc2~\\x1ex\\x16\\x98\\xaeq\\xbcL\\xa7\\xbc\\xb8\\xa6|\\x8d*a'\n",
      "DO YOU WANT DECRYPTED ID ? 1.YES 2.NO1\n",
      "decrypted id mukesh@9787R\n"
     ]
    }
   ],
   "source": [
    "import rsa \n",
    "import re\n",
    "\n",
    "public_key,private_key=rsa.newkeys(512)\n",
    "inp_id=input(\"enter reference id: \")\n",
    "if(len(inp_id)==12 and re.search(\"[a-z]\",inp_id) or re.search(\"[0-9]\",inp_id)) or re.search(\"[A-Z]\",inp_id) or re.search(\"[!@#$%^&*]\",inp_id):\n",
    "    en_msg=rsa.encrypt(inp_id.encode(),public_key)\n",
    "    de_msg=rsa.decrypt(en_msg,private_key).decode()\n",
    "    print(\"encrypted msg:\",en_msg)\n",
    "    de_inp=int(input(\"DO YOU WANT DECRYPTED ID ? 1.YES 2.NO\"))\n",
    "    if(de_inp==1):\n",
    "                     print(\"decrypted id\",de_msg)\n",
    "    else:\n",
    "                     pass\n",
    "else:\n",
    "    print(\"wrong reference id!!!\")"
   ]
  },
  {
   "cell_type": "code",
   "execution_count": null,
   "id": "b6ee7a5f",
   "metadata": {},
   "outputs": [],
   "source": []
  }
 ],
 "metadata": {
  "kernelspec": {
   "display_name": "Python 3",
   "language": "python",
   "name": "python3"
  },
  "language_info": {
   "codemirror_mode": {
    "name": "ipython",
    "version": 3
   },
   "file_extension": ".py",
   "mimetype": "text/x-python",
   "name": "python",
   "nbconvert_exporter": "python",
   "pygments_lexer": "ipython3",
   "version": "3.8.8"
  }
 },
 "nbformat": 4,
 "nbformat_minor": 5
}
