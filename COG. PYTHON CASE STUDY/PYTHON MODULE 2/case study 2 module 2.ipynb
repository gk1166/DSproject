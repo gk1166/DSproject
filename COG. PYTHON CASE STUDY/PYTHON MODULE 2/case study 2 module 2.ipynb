{
 "cells": [
  {
   "cell_type": "code",
   "execution_count": 1,
   "id": "5027d0a0",
   "metadata": {},
   "outputs": [
    {
     "name": "stdout",
     "output_type": "stream",
     "text": [
      "4\n"
     ]
    }
   ],
   "source": [
    "# 1. What is the output of the following code? \n",
    "nums = set([1,1,2,3,3,3,4,4]) \n",
    "print(len(nums))\n",
    "# Hint: Set consists unique element."
   ]
  },
  {
   "cell_type": "code",
   "execution_count": 2,
   "id": "7424d408",
   "metadata": {},
   "outputs": [
    {
     "name": "stdout",
     "output_type": "stream",
     "text": [
      "['john', 'peter']\n"
     ]
    }
   ],
   "source": [
    "# 2. What will be the output? \n",
    "d = {\"john\":40, \"peter\":45} \n",
    "print(list(d.keys()))\n",
    "# Hint: d.keys() is the function which will show keys."
   ]
  },
  {
   "cell_type": "code",
   "execution_count": 16,
   "id": "8bdf34ae",
   "metadata": {
    "scrolled": false
   },
   "outputs": [
    {
     "name": "stdout",
     "output_type": "stream",
     "text": [
      "enter your password: Mukesh9787\n",
      "invalid password!!!\n"
     ]
    }
   ],
   "source": [
    "# 3. A website requires a user to input username and password to register. Write a program to check the validity of password given by user. Following are the criteria for checking password:\n",
    "# 1. At least 1 letter between [a-z]\n",
    "# 2. At least 1 number between [0-9]\n",
    "# 1. At least 1 letter between [A-Z]\n",
    "# 3. At least 1 character from [$#@]\n",
    "# 4. Minimum length of transaction password: 6\n",
    "# 5. Maximum length of transaction password: 12\n",
    "# Hint: In case of input data being supplied to the question,\n",
    "# it should be assumed to be a console input.\n",
    "import re\n",
    "pas=input(\"enter your password: \")\n",
    "invalid=0\n",
    "if(len(pas) < 6 or len(pas) > 12):\n",
    "    invalid=1\n",
    "elif not(re.search(\"[a-z]\",pas)):\n",
    "    invalid=1\n",
    "elif not(re.search(\"[A-Z]\",pas)):\n",
    "    invalid=1\n",
    "elif not(re.search(\"[0-9]\",pas)):\n",
    "    invalid=1\n",
    "elif not(re.search(\"[$,#,@]\",pas)):\n",
    "    invalid=1\n",
    "if(invalid==1):\n",
    "    print(\"invalid password!!!\")\n",
    "else:\n",
    "    print(\"valid password:)\")\n",
    "\n",
    "\n"
   ]
  },
  {
   "cell_type": "code",
   "execution_count": 27,
   "id": "ad02c5f3",
   "metadata": {
    "scrolled": true
   },
   "outputs": [
    {
     "name": "stdout",
     "output_type": "stream",
     "text": [
      "4 is in pos:  0\n",
      "7 is in pos:  1\n",
      "3 is in pos:  2\n",
      "2 is in pos:  3\n",
      "5 is in pos:  4\n",
      "9 is in pos:  5\n"
     ]
    }
   ],
   "source": [
    "# 4. Write a for loop that prints all elements of a list and\n",
    "# their position in the list.\n",
    "# a = [4,7,3,2,5,9]\n",
    "# Hint: Use Loop to iterate through list elements.\n",
    "a = [4,7,3,2,5,9]\n",
    "for i  in a:\n",
    "    print(i,\"is in pos: \",a.index(i))"
   ]
  },
  {
   "cell_type": "code",
   "execution_count": 3,
   "id": "7b8d1e10",
   "metadata": {
    "scrolled": true
   },
   "outputs": [
    {
     "name": "stdout",
     "output_type": "stream",
     "text": [
      "enter any string: m2u3k4e5s5h\n",
      "mukesh"
     ]
    }
   ],
   "source": [
    "# 5. Please write a program which accepts a string from console \n",
    "# and print the characters that have even indexes.\n",
    "# Example: If the following string is given as input to the program:\n",
    "# H1e2l3l4o5w6o7r8l9d\n",
    "# Then, the output of the program should be:\n",
    "# Helloworld\n",
    "inp=input(\"enter any string: \")\n",
    "for i in inp:\n",
    "    if(inp.index(i) % 2 ==0):\n",
    "        print(i,end='')"
   ]
  },
  {
   "cell_type": "code",
   "execution_count": 32,
   "id": "06f0fc3b",
   "metadata": {},
   "outputs": [
    {
     "name": "stdout",
     "output_type": "stream",
     "text": [
      "enter the string: rise to vote sir\n",
      "ris etov ot esir\n"
     ]
    }
   ],
   "source": [
    "# 6. Please write a program which accepts a string from console \n",
    "# and print it in reverse order.\n",
    "# Example: If the following string is given as input to the program:\n",
    "# rise to vote sir\n",
    "# Then, the output of the program should be:\n",
    "# ris etov ot esir\n",
    "inp=input(\"enter the string: \")\n",
    "print(inp[::-1])"
   ]
  },
  {
   "cell_type": "code",
   "execution_count": 28,
   "id": "d70f1ee6",
   "metadata": {
    "scrolled": true
   },
   "outputs": [
    {
     "name": "stdout",
     "output_type": "stream",
     "text": [
      "c    2\n",
      "b    2\n",
      "a    2\n",
      "d    1\n",
      "f    1\n",
      "g    1\n",
      "e    1\n",
      "dtype: int64\n"
     ]
    }
   ],
   "source": [
    "# 7. Please write a program which count and print the numbers of each character in a string input by console.\n",
    "# Example: If the following string is given as input to the program:\n",
    "# abcdefgabc\n",
    "# Then, the output of the program should be:\n",
    "# a,2\n",
    "# c,2\n",
    "# b,2\n",
    "# e,1\n",
    "# d,1\n",
    "# g,1\n",
    "# f,1\n",
    "import  pandas as pd\n",
    "name=\"abcdefgabc\"\n",
    "mu=pd.Series(list(name)).value_counts()\n",
    "print(mu)\n"
   ]
  },
  {
   "cell_type": "code",
   "execution_count": 34,
   "id": "a6c68cdd",
   "metadata": {},
   "outputs": [
    {
     "name": "stdout",
     "output_type": "stream",
     "text": [
      "{35}\n"
     ]
    }
   ],
   "source": [
    "# 8. With two given lists [1,3,6,78,35,55] and\n",
    "# [12,24,35,24,88,120,155], write a program to make a list whose\n",
    "# elements are intersection of the above given lists.\n",
    "list_1=[1,3,6,78,35,55]\n",
    "list_2=[12,24,35,24,88,120,155]\n",
    "set_1=set(list_1)\n",
    "set_2=set(list_2)\n",
    "print(set_1.intersection(set_2))"
   ]
  },
  {
   "cell_type": "code",
   "execution_count": 37,
   "id": "73b97fe2",
   "metadata": {},
   "outputs": [
    {
     "name": "stdout",
     "output_type": "stream",
     "text": [
      "[12, 35, 24, 88, 120, 155]\n"
     ]
    }
   ],
   "source": [
    "# 9. By using list comprehension, please write a program to print the list \n",
    "# after removing the value 24 in [12,24,35,24,88,120,155].\n",
    "list=[12,24,35,24,88,120,155]\n",
    "list.remove(24)\n",
    "print(list)"
   ]
  },
  {
   "cell_type": "code",
   "execution_count": 40,
   "id": "544efd53",
   "metadata": {},
   "outputs": [
    {
     "data": {
      "text/plain": [
       "[24, 35, 70, 155]"
      ]
     },
     "execution_count": 40,
     "metadata": {},
     "output_type": "execute_result"
    }
   ],
   "source": [
    "# 10. By using list comprehension, please write a program to print the list after \n",
    "# removing the 0th,4th,5th numbers \n",
    "# in [12,24,35,70,88,120,155].\n",
    "list=[12,24,35,70,88,120,155]\n",
    "a,b,c=list[0],list[4],list[5]\n",
    "list.remove(a)\n",
    "list.remove(b)\n",
    "list.remove(c)\n",
    "list"
   ]
  },
  {
   "cell_type": "code",
   "execution_count": 11,
   "id": "75436d09",
   "metadata": {
    "scrolled": false
   },
   "outputs": [
    {
     "name": "stdout",
     "output_type": "stream",
     "text": [
      "[12, 24, 88]\n"
     ]
    }
   ],
   "source": [
    "# 11. By using list comprehension, please write a program to print the list after removing delete numbers which\n",
    "# are divisible by 5 and 7 in [12,24,35,70,88,120,155].\n",
    "list_q=[12,24,35,70,88,120,155]\n",
    "list_e=[]\n",
    "for i  in list_q:\n",
    "    if(i % 5 == 0 or i % 7 == 0):\n",
    "        list_e.append(i)\n",
    "for i  in list_e:\n",
    "        list_q.remove(i)\n",
    "print(list_q)"
   ]
  },
  {
   "cell_type": "code",
   "execution_count": 30,
   "id": "ca88da18",
   "metadata": {},
   "outputs": [
    {
     "name": "stdout",
     "output_type": "stream",
     "text": [
      "enter n value: 5\n",
      "3.5500000000000003\n"
     ]
    }
   ],
   "source": [
    "# 12. Write a program to compute 1/2+2/3+3/4+...+n/n+1 \n",
    "# with a given n input by console (n>0).\n",
    "# Example:\n",
    "# If the following n is given as input to the program:\n",
    "# 5\n",
    "# Then, the output of the program should be:\n",
    "# 3.55\n",
    "n=int(input(\"enter n value: \"))\n",
    "it,a,b=0,0,1\n",
    "for i  in range(1,n+1):\n",
    "    a=a+1\n",
    "    b=b+1\n",
    "    it=it + (a/b)\n",
    "print(it)\n",
    "    "
   ]
  }
 ],
 "metadata": {
  "kernelspec": {
   "display_name": "Python 3",
   "language": "python",
   "name": "python3"
  },
  "language_info": {
   "codemirror_mode": {
    "name": "ipython",
    "version": 3
   },
   "file_extension": ".py",
   "mimetype": "text/x-python",
   "name": "python",
   "nbconvert_exporter": "python",
   "pygments_lexer": "ipython3",
   "version": "3.8.8"
  }
 },
 "nbformat": 4,
 "nbformat_minor": 5
}
