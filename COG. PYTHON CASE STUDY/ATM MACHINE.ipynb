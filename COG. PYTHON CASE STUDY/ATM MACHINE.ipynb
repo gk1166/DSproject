{
 "cells": [
  {
   "cell_type": "code",
   "execution_count": null,
   "id": "504f1f04",
   "metadata": {},
   "outputs": [],
   "source": [
    "while(True):\n",
    "    print(\"WELCOME TO MUKESH'S ATM... :)\")\n",
    "    print(\"1.NEW USER... 2.USER LOGIN.. 3.CANCEL TRANSACTION...\")\n",
    "    user_select=int(input(\"ENTER YOUR OPTION>>> \"))\n",
    "    if(user_select == 1):\n",
    "        u_name ==input(\"ENTER YOUR NAME>>>\")\n",
    "        print(\"ENTER YOUR PASSWORD[SHOULD CONTAIN ATLEAST ONE CAPITAL ALPHABET,>>>\")\n",
    "        u_pass ==input(\"ONE LOWER CASE,ONE NUMBER ,ONE SPECIAL CHARACTER(#,@,$,&) \")\n",
    "        \n",
    "    elif(user_select == 2):\n",
    "        \n",
    "    elif(user_select ==3):\n",
    "        print(\"THANK YOU FOR USING OUR ATM...# HAVE A GREAT DAY\")\n",
    "    else:\n",
    "        print(\"enter valid option\")"
   ]
  }
 ],
 "metadata": {
  "kernelspec": {
   "display_name": "Python 3",
   "language": "python",
   "name": "python3"
  },
  "language_info": {
   "codemirror_mode": {
    "name": "ipython",
    "version": 3
   },
   "file_extension": ".py",
   "mimetype": "text/x-python",
   "name": "python",
   "nbconvert_exporter": "python",
   "pygments_lexer": "ipython3",
   "version": "3.8.8"
  }
 },
 "nbformat": 4,
 "nbformat_minor": 5
}
