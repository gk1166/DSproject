{
 "cells": [
  {
   "cell_type": "code",
   "execution_count": null,
   "id": "1ce7560c",
   "metadata": {},
   "outputs": [],
   "source": [
    "import pandas as pd\n",
    "class CustomerNotAllowedException(Exception):\n",
    "    def __init__(self,msg):\n",
    "        super().__init__(msg)\n",
    "data=pd.read_csv('FairDealCustomerData.csv',header=None)\n",
    "name=data[1]\n",
    "black_list=data[2]\n",
    "name_li=[]\n",
    "title=[]\n",
    "first_name=[]\n",
    "last_name=[]\n",
    "c=[]\n",
    "for i in range(0,len(name)):\n",
    "    name_li.append(name[i].split(' '))\n",
    "    title.append(name_li[i][1])\n",
    "    first_name.append(name_li[i][2])\n",
    "    last_name.append(name_li[i][3]) \n",
    "class Customer:\n",
    "    def __init__(self,title,first_name,last_name,black_list):\n",
    "        self.title=title\n",
    "        self.first_name=first_name\n",
    "        self.last_name=last_name\n",
    "        self.black_list=black_list\n",
    "    \n",
    "    def CreateOrder(self):\n",
    "        if(self.black_list==1):\n",
    "            raise CustomerNotAllowedException(\"This Customer not allowed to make a order\")\n",
    "        else:\n",
    "            product_name=input(\"ENTER PRODUCT NAME: \")\n",
    "            poduct_id=input(\"ENTER PRODUCT ID: \")\n",
    "            print(\"ORDER CREATED SUCCESSFULLY TO DELIVER : \",product_name.upper(),\"; PRODUCT ID IS : \",poduct_id)\n",
    "for i in range(0,len(name)):\n",
    "    c.append(Customer(title[i],first_name[i],last_name[i],black_list[i]))\n",
    "\n",
    "class Order(Customer):\n",
    "    def ret(self):\n",
    "        print(\"OBJECT IS ON CLASS:\",type(self))\n",
    "c_i=int(input(\"ENTER THE CUSTOMER CODE: \"))\n",
    "cust=c[c_i]\n",
    "t,f,l,b=title[c_i],first_name[c_i],last_name[c_i],black_list[c_i]\n",
    "cust=Order(t,f,l,b)\n",
    "cust.CreateOrder()\n",
    "cust.ret()"
   ]
  },
  {
   "cell_type": "code",
   "execution_count": null,
   "id": "6ed32f5c",
   "metadata": {},
   "outputs": [],
   "source": []
  },
  {
   "cell_type": "code",
   "execution_count": null,
   "id": "141aea83",
   "metadata": {},
   "outputs": [],
   "source": []
  }
 ],
 "metadata": {
  "kernelspec": {
   "display_name": "Python 3",
   "language": "python",
   "name": "python3"
  },
  "language_info": {
   "codemirror_mode": {
    "name": "ipython",
    "version": 3
   },
   "file_extension": ".py",
   "mimetype": "text/x-python",
   "name": "python",
   "nbconvert_exporter": "python",
   "pygments_lexer": "ipython3",
   "version": "3.8.8"
  }
 },
 "nbformat": 4,
 "nbformat_minor": 5
}
