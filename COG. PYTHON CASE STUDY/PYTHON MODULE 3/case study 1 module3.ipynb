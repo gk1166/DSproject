{
 "cells": [
  {
   "cell_type": "code",
   "execution_count": 50,
   "id": "1e2706ad",
   "metadata": {},
   "outputs": [
    {
     "name": "stdout",
     "output_type": "stream",
     "text": [
      "enter direction as UP/DOWN/RIGHT/LEFT and then followed by NUMBER OF STEPS TO MOVE : up 5\n",
      "current position:  0 5\n",
      "enter direction as UP/DOWN/RIGHT/LEFT and then followed by NUMBER OF STEPS TO MOVE : down 3\n",
      "current position:  0 2\n",
      "enter direction as UP/DOWN/RIGHT/LEFT and then followed by NUMBER OF STEPS TO MOVE : left 8\n",
      "current position:  -8 2\n",
      "enter direction as UP/DOWN/RIGHT/LEFT and then followed by NUMBER OF STEPS TO MOVE : right 18\n",
      "current position:  10 2\n",
      "enter direction as UP/DOWN/RIGHT/LEFT and then followed by NUMBER OF STEPS TO MOVE : \n",
      "distance:  10.198039027185569\n"
     ]
    }
   ],
   "source": [
    "# 1. A Robot moves in a Plane starting from the origin point (0,0). The robot can move toward UP, DOWN, LEFT, RIGHT. The trace of Robot movement is as given following:\n",
    "# UP 5\n",
    "# DOWN 3\n",
    "# LEFT 3\n",
    "# RIGHT 2\n",
    "# The numbers after directions are steps. Write a program to compute the distance current position after sequence of movements.\n",
    "# Hint: Use math module.\n",
    "import math\n",
    "\n",
    "x,y=0,0\n",
    "\n",
    "while True:\n",
    "    move=input(\"enter direction as UP/DOWN/RIGHT/LEFT and then followed by NUMBER OF STEPS TO MOVE : \")\n",
    "    if(move == \"\"):\n",
    "        break;\n",
    "    else:\n",
    "        move=move.split(\" \")\n",
    "        if(move[0].upper() == \"UP\"):\n",
    "            y= y + int(move[1])\n",
    "        elif(move[0].upper() == \"DOWN\"):\n",
    "            y=y - int(move[1])\n",
    "        elif(move[0].upper() == \"RIGHT\"):\n",
    "            x=x + int(move[1])\n",
    "        elif(move[0].upper() == \"LEFT\"):\n",
    "            x=x - int(move[1])\n",
    "    print(\"current position: \",x,y)\n",
    "total_distance=math.sqrt(pow(x,2)+ pow(y,2))\n",
    "print(\"distance: \",total_distance)"
   ]
  },
  {
   "cell_type": "code",
   "execution_count": 51,
   "id": "606b4b99",
   "metadata": {
    "scrolled": true
   },
   "outputs": [
    {
     "name": "stdout",
     "output_type": "stream",
     "text": [
      "[1, 23, 45, 67, 78, 89, 123, 146]\n",
      "ENTER THE  NUMBER TO BE SEARCHED FROM LIST: 23\n",
      "The value 23 is found at:  2\n"
     ]
    }
   ],
   "source": [
    "# 2. Data of XYZ company is stored in sorted list. \n",
    "# Write a program for searching specific data from that list.\n",
    "# Hint: Use if/elif to deal with conditions.\n",
    "import sys\n",
    "def binarySearch(list,search_no):\n",
    "        try:\n",
    "            if(list[0]==\" \"):\n",
    "                print()\n",
    "            else:\n",
    "                l=0\n",
    "                u=len(list)-1\n",
    "                while(l<=u):\n",
    "                    mid=(l+u)//2   #using integer div. to avoid float values\n",
    "                    if(list[mid]==search_no):\n",
    "                        globals()['pos']=mid\n",
    "                        return True\n",
    "                    elif(search_no > list[mid]):\n",
    "                        l=mid+1\n",
    "                    else:\n",
    "                        u=mid-1\n",
    "                return False\n",
    "        except:\n",
    "             print(sys.exc_info()[0],\"THE LIST IS  EMPTY!!! \")\n",
    "list=[1,23,45,67,78,89,123,146]\n",
    "print(list)\n",
    "search_no=int(input(\"ENTER THE  NUMBER TO BE SEARCHED FROM LIST: \"))\n",
    "if(binarySearch(list,search_no)):\n",
    "    print(\"The value\", search_no , \"is found at: \",pos+1)\n",
    "else:\n",
    "    print(\"not found\")"
   ]
  },
  {
   "cell_type": "code",
   "execution_count": 54,
   "id": "850adec9",
   "metadata": {},
   "outputs": [
    {
     "name": "stdout",
     "output_type": "stream",
     "text": [
      "DAY\n",
      "Sun Nov 21 14:01:59 2021\n"
     ]
    }
   ],
   "source": [
    "# 3. Weather forecasting organization wants to show is it day or night. So, write a program for such organization to find whether is it dark outside or not.\n",
    "# Hint: Use time module.\n",
    "import  time\n",
    "gm_now=time.gmtime()\n",
    "ind_now=gm_now[3]+5\n",
    "if(ind_now >5 and ind_now < 18):\n",
    "    print(\"DAY\")\n",
    "else:\n",
    "    print(\"NIGHT\")\n",
    "print(time.asctime())"
   ]
  },
  {
   "cell_type": "code",
   "execution_count": 14,
   "id": "732e6892",
   "metadata": {},
   "outputs": [
    {
     "name": "stdout",
     "output_type": "stream",
     "text": [
      "Input coordinates of two points:\n",
      "Starting latitude: 23\n",
      "Ending longitude: 267\n",
      "Starting latitude: 234\n",
      "Ending longitude: 45\n",
      "The distance is 9459.12km.\n"
     ]
    }
   ],
   "source": [
    "# 4.Write a program to find distance between two locations when their latitude and longitudes are given.\n",
    "# Hint: Use math module.\n",
    "from math import radians, sin, cos, acos\n",
    "\n",
    "print(\"Input coordinates of two points:\")\n",
    "slat = radians(float(input(\"Starting latitude: \")))\n",
    "slon = radians(float(input(\"Starting longitude: \")))\n",
    "elat = radians(float(input(\"Ending latitude: \")))\n",
    "elon = radians(float(input(\"Ending longitude: \")))\n",
    "\n",
    "dist = 6371.01 * acos(sin(slat)*sin(elat) + cos(slat)*cos(elat)*cos(slon - elon))\n",
    "print(\"The distance is %.2fkm.\" % dist)"
   ]
  },
  {
   "cell_type": "code",
   "execution_count": 55,
   "id": "07b249d7",
   "metadata": {
    "scrolled": true
   },
   "outputs": [
    {
     "name": "stdout",
     "output_type": "stream",
     "text": [
      "WELCOME TO BANK SYSTEM...:)\n",
      "ENTER ANY OPTION: \n",
      "1. CASH WITHDRAW\n",
      "2. CASH CREDIT\n",
      "3. CHANGE PASSWORD\n",
      "4. EXIT \n",
      "1\n",
      "ENTER PASSWORD: mukesh\n",
      "ENTER AMOUNT: 1500\n",
      "WITHDRAW AMOUNT :  1500 AVAILABLE BALANCE:  8500\n",
      "ENTER ANY OPTION: \n",
      "1. CASH WITHDRAW\n",
      "2. CASH CREDIT\n",
      "3. CHANGE PASSWORD\n",
      "4. EXIT \n",
      "2\n",
      "ENTER PASSWORD: mukesh\n",
      "ENTER AMOUNT: 10000\n",
      "AVAILABLE BALANCE:  18500\n",
      "ENTER ANY OPTION: \n",
      "1. CASH WITHDRAW\n",
      "2. CASH CREDIT\n",
      "3. CHANGE PASSWORD\n",
      "4. EXIT \n",
      "3\n",
      "ENTER NEW PASSWORD:smk\n",
      "PASSWORD CHANGED..!\n",
      "ENTER ANY OPTION: \n",
      "1. CASH WITHDRAW\n",
      "2. CASH CREDIT\n",
      "3. CHANGE PASSWORD\n",
      "4. EXIT \n",
      "1\n",
      "ENTER PASSWORD: mukesh\n",
      "enter correct password!!!\n",
      "ENTER ANY OPTION: \n",
      "1. CASH WITHDRAW\n",
      "2. CASH CREDIT\n",
      "3. CHANGE PASSWORD\n",
      "4. EXIT \n",
      "1\n",
      "ENTER PASSWORD: smk\n"
     ]
    },
    {
     "ename": "KeyboardInterrupt",
     "evalue": "Interrupted by user",
     "output_type": "error",
     "traceback": [
      "\u001b[1;31m---------------------------------------------------------------------------\u001b[0m",
      "\u001b[1;31mKeyboardInterrupt\u001b[0m                         Traceback (most recent call last)",
      "\u001b[1;32m<ipython-input-55-c297c68b669f>\u001b[0m in \u001b[0;36m<module>\u001b[1;34m\u001b[0m\n\u001b[0;32m     49\u001b[0m     \u001b[0moption\u001b[0m\u001b[1;33m=\u001b[0m\u001b[0mint\u001b[0m\u001b[1;33m(\u001b[0m\u001b[0minput\u001b[0m\u001b[1;33m(\u001b[0m\u001b[1;33m)\u001b[0m\u001b[1;33m)\u001b[0m\u001b[1;33m\u001b[0m\u001b[1;33m\u001b[0m\u001b[0m\n\u001b[0;32m     50\u001b[0m     \u001b[1;32mif\u001b[0m\u001b[1;33m(\u001b[0m\u001b[0moption\u001b[0m\u001b[1;33m==\u001b[0m\u001b[1;36m1\u001b[0m\u001b[1;33m)\u001b[0m\u001b[1;33m:\u001b[0m\u001b[1;33m\u001b[0m\u001b[1;33m\u001b[0m\u001b[0m\n\u001b[1;32m---> 51\u001b[1;33m         \u001b[0mwithdraw\u001b[0m\u001b[1;33m(\u001b[0m\u001b[1;33m)\u001b[0m\u001b[1;33m\u001b[0m\u001b[1;33m\u001b[0m\u001b[0m\n\u001b[0m\u001b[0;32m     52\u001b[0m         \u001b[0mbal\u001b[0m\u001b[1;33m=\u001b[0m\u001b[0ml_bal\u001b[0m\u001b[1;33m\u001b[0m\u001b[1;33m\u001b[0m\u001b[0m\n\u001b[0;32m     53\u001b[0m     \u001b[1;32melif\u001b[0m\u001b[1;33m(\u001b[0m\u001b[0moption\u001b[0m\u001b[1;33m==\u001b[0m\u001b[1;36m2\u001b[0m\u001b[1;33m)\u001b[0m\u001b[1;33m:\u001b[0m\u001b[1;33m\u001b[0m\u001b[1;33m\u001b[0m\u001b[0m\n",
      "\u001b[1;32m<ipython-input-55-c297c68b669f>\u001b[0m in \u001b[0;36mwithdraw\u001b[1;34m()\u001b[0m\n\u001b[0;32m     10\u001b[0m     \u001b[1;32mglobal\u001b[0m \u001b[0ml_bal\u001b[0m\u001b[1;33m\u001b[0m\u001b[1;33m\u001b[0m\u001b[0m\n\u001b[0;32m     11\u001b[0m     \u001b[1;32mif\u001b[0m\u001b[1;33m(\u001b[0m\u001b[0mpass_verify\u001b[0m\u001b[1;33m(\u001b[0m\u001b[1;33m)\u001b[0m\u001b[1;33m)\u001b[0m\u001b[1;33m:\u001b[0m\u001b[1;33m\u001b[0m\u001b[1;33m\u001b[0m\u001b[0m\n\u001b[1;32m---> 12\u001b[1;33m         \u001b[0mcash_out\u001b[0m\u001b[1;33m=\u001b[0m\u001b[0mint\u001b[0m\u001b[1;33m(\u001b[0m\u001b[0minput\u001b[0m\u001b[1;33m(\u001b[0m\u001b[1;34m\"ENTER AMOUNT: \"\u001b[0m\u001b[1;33m)\u001b[0m\u001b[1;33m)\u001b[0m\u001b[1;33m\u001b[0m\u001b[1;33m\u001b[0m\u001b[0m\n\u001b[0m\u001b[0;32m     13\u001b[0m         \u001b[0ml_bal\u001b[0m\u001b[1;33m=\u001b[0m\u001b[0mbal\u001b[0m\u001b[1;33m\u001b[0m\u001b[1;33m\u001b[0m\u001b[0m\n\u001b[0;32m     14\u001b[0m         \u001b[1;32mif\u001b[0m\u001b[1;33m(\u001b[0m\u001b[0mcash_out\u001b[0m \u001b[1;33m<=\u001b[0m \u001b[0ml_bal\u001b[0m\u001b[1;33m)\u001b[0m\u001b[1;33m:\u001b[0m\u001b[1;33m\u001b[0m\u001b[1;33m\u001b[0m\u001b[0m\n",
      "\u001b[1;32m~\\anaconda3\\lib\\site-packages\\ipykernel\\kernelbase.py\u001b[0m in \u001b[0;36mraw_input\u001b[1;34m(self, prompt)\u001b[0m\n\u001b[0;32m    858\u001b[0m                 \u001b[1;34m\"raw_input was called, but this frontend does not support input requests.\"\u001b[0m\u001b[1;33m\u001b[0m\u001b[1;33m\u001b[0m\u001b[0m\n\u001b[0;32m    859\u001b[0m             )\n\u001b[1;32m--> 860\u001b[1;33m         return self._input_request(str(prompt),\n\u001b[0m\u001b[0;32m    861\u001b[0m             \u001b[0mself\u001b[0m\u001b[1;33m.\u001b[0m\u001b[0m_parent_ident\u001b[0m\u001b[1;33m,\u001b[0m\u001b[1;33m\u001b[0m\u001b[1;33m\u001b[0m\u001b[0m\n\u001b[0;32m    862\u001b[0m             \u001b[0mself\u001b[0m\u001b[1;33m.\u001b[0m\u001b[0m_parent_header\u001b[0m\u001b[1;33m,\u001b[0m\u001b[1;33m\u001b[0m\u001b[1;33m\u001b[0m\u001b[0m\n",
      "\u001b[1;32m~\\anaconda3\\lib\\site-packages\\ipykernel\\kernelbase.py\u001b[0m in \u001b[0;36m_input_request\u001b[1;34m(self, prompt, ident, parent, password)\u001b[0m\n\u001b[0;32m    902\u001b[0m             \u001b[1;32mexcept\u001b[0m \u001b[0mKeyboardInterrupt\u001b[0m\u001b[1;33m:\u001b[0m\u001b[1;33m\u001b[0m\u001b[1;33m\u001b[0m\u001b[0m\n\u001b[0;32m    903\u001b[0m                 \u001b[1;31m# re-raise KeyboardInterrupt, to truncate traceback\u001b[0m\u001b[1;33m\u001b[0m\u001b[1;33m\u001b[0m\u001b[1;33m\u001b[0m\u001b[0m\n\u001b[1;32m--> 904\u001b[1;33m                 \u001b[1;32mraise\u001b[0m \u001b[0mKeyboardInterrupt\u001b[0m\u001b[1;33m(\u001b[0m\u001b[1;34m\"Interrupted by user\"\u001b[0m\u001b[1;33m)\u001b[0m \u001b[1;32mfrom\u001b[0m \u001b[1;32mNone\u001b[0m\u001b[1;33m\u001b[0m\u001b[1;33m\u001b[0m\u001b[0m\n\u001b[0m\u001b[0;32m    905\u001b[0m             \u001b[1;32mexcept\u001b[0m \u001b[0mException\u001b[0m \u001b[1;32mas\u001b[0m \u001b[0me\u001b[0m\u001b[1;33m:\u001b[0m\u001b[1;33m\u001b[0m\u001b[1;33m\u001b[0m\u001b[0m\n\u001b[0;32m    906\u001b[0m                 \u001b[0mself\u001b[0m\u001b[1;33m.\u001b[0m\u001b[0mlog\u001b[0m\u001b[1;33m.\u001b[0m\u001b[0mwarning\u001b[0m\u001b[1;33m(\u001b[0m\u001b[1;34m\"Invalid Message:\"\u001b[0m\u001b[1;33m,\u001b[0m \u001b[0mexc_info\u001b[0m\u001b[1;33m=\u001b[0m\u001b[1;32mTrue\u001b[0m\u001b[1;33m)\u001b[0m\u001b[1;33m\u001b[0m\u001b[1;33m\u001b[0m\u001b[0m\n",
      "\u001b[1;31mKeyboardInterrupt\u001b[0m: Interrupted by user"
     ]
    }
   ],
   "source": [
    "# 5. Design a software for bank system. \n",
    "# There should be options like cash withdraw, cash \n",
    "# credit and change password. According to user input,\n",
    "# the software should provide required output.\n",
    "# Hint: Use if else statements and functions.\n",
    "pas='mukesh'\n",
    "bal=10000\n",
    "print(\"WELCOME TO BANK SYSTEM...:)\")\n",
    "def withdraw():\n",
    "    global l_bal\n",
    "    if(pass_verify()):\n",
    "        cash_out=int(input(\"ENTER AMOUNT: \"))\n",
    "        l_bal=bal\n",
    "        if(cash_out <= l_bal):\n",
    "            l_bal=l_bal-cash_out\n",
    "            print(\"WITHDRAW AMOUNT : \",cash_out,\"AVAILABLE BALANCE: \",l_bal)\n",
    "        else:\n",
    "            print(\"INSUFFICIENT BALANCE..!\")\n",
    "    else:\n",
    "        print(\"enter correct password!!!\")\n",
    "def credit():\n",
    "    global l_bal\n",
    "    l_bal=bal\n",
    "    if(pass_verify()):\n",
    "        cash_in=int(input(\"ENTER AMOUNT: \"))\n",
    "        l_bal=l_bal + cash_in\n",
    "        print(\"AVAILABLE BALANCE: \",l_bal)\n",
    "    else:\n",
    "        print(\"enter correct password...!!!\")\n",
    "    \n",
    "    \n",
    "def change():\n",
    "    global l_pas\n",
    "    l_pas=input(\"ENTER NEW PASSWORD:\")\n",
    "    print(\"PASSWORD CHANGED..!\")\n",
    "def pass_verify():\n",
    "            pas_input=input(\"ENTER PASSWORD: \")\n",
    "            if (pas_input == pas):\n",
    "                return True\n",
    "            else:\n",
    "                return False\n",
    "while(True):\n",
    "    print(\"ENTER ANY OPTION: \")\n",
    "    print(\"1. CASH WITHDRAW\")\n",
    "    print(\"2. CASH CREDIT\")\n",
    "    print(\"3. CHANGE PASSWORD\")\n",
    "    print(\"4. EXIT \")\n",
    "    \n",
    "    option=int(input())\n",
    "    if(option==1):\n",
    "        withdraw()\n",
    "        bal=l_bal\n",
    "    elif(option==2):\n",
    "        credit()\n",
    "        bal=l_bal\n",
    "    elif(option==3):\n",
    "        change()\n",
    "        pas=l_pas\n",
    "    elif(option==4):\n",
    "        break\n",
    "    else:\n",
    "        print(\"enter valid input...!!!\")\n"
   ]
  },
  {
   "cell_type": "code",
   "execution_count": 56,
   "id": "88ed5296",
   "metadata": {},
   "outputs": [
    {
     "name": "stdout",
     "output_type": "stream",
     "text": [
      "2002,2009,2016,2023,2037,2044,2051,2058,2072,2079,2086,2093,2107,2114,2121,2128,2142,2149,2156,2163,2177,2184,2191,2198,2212,2219,2226,2233,2247,2254,2261,2268,2282,2289,2296,2303,2317,2324,2331,2338,2352,2359,2366,2373,2387,2394,2401,2408,2422,2429,2436,2443,2457,2464,2471,2478,2492,2499,2506,2513,2527,2534,2541,2548,2562,2569,2576,2583,2597,2604,2611,2618,2632,2639,2646,2653,2667,2674,2681,2688,2702,2709,2716,2723,2737,2744,2751,2758,2772,2779,2786,2793,2807,2814,2821,2828,2842,2849,2856,2863,2877,2884,2891,2898,2912,2919,2926,2933,2947,2954,2961,2968,2982,2989,2996,3003,3017,3024,3031,3038,3052,3059,3066,3073,3087,3094,3101,3108,3122,3129,3136,3143,3157,3164,3171,3178,3192,3199,"
     ]
    }
   ],
   "source": [
    "# 6. Write a program which will find all such numbers \n",
    "# which are divisible by 7 but are not a multiple of 5, bet\n",
    "# ween 2000 and 3200 (both included). The numbers obtained should be\n",
    "# printed in a comma-separated sequence on a single line.\n",
    "for i in range(2000,3201):\n",
    "    if(i % 5 !=0 and i % 7 == 0):\n",
    "        print(i,end=\",\")"
   ]
  },
  {
   "cell_type": "code",
   "execution_count": 57,
   "id": "a1976211",
   "metadata": {
    "scrolled": true
   },
   "outputs": [
    {
     "name": "stdout",
     "output_type": "stream",
     "text": [
      "enter no. to find factorial: 5\n",
      "120\n"
     ]
    }
   ],
   "source": [
    "# 7. Write a program which can compute the factorial of a given numbers. \n",
    "# Use recursion to find it.\n",
    "# Hint: Suppose the following input is supplied to the program:\n",
    "# 8\n",
    "# Then, the output should be:\n",
    "# 40320\n",
    "\n",
    "n=int(input(\"enter no. to find factorial: \"))\n",
    "def fact(n):\n",
    "    if(n>1):\n",
    "        return n*fact(n-1)\n",
    "    else:\n",
    "        return 1\n",
    "print(fact(n))"
   ]
  },
  {
   "cell_type": "code",
   "execution_count": 23,
   "id": "2c04b7b5",
   "metadata": {
    "scrolled": true
   },
   "outputs": [
    {
     "name": "stdout",
     "output_type": "stream",
     "text": [
      "enter the  number: 100,150,180\n",
      "18 22 24 "
     ]
    }
   ],
   "source": [
    "# 8. Write a program that calculates and prints the value according to the given formula:\n",
    "# Q = Square root of [(2 * C * D)/H]\n",
    "# Following are the fixed values of C and H: C is 50. H is 30.\n",
    "# D is the variable whose values should be input to your program in a comma- separated sequence.\n",
    "# Example:\n",
    "# Let us assume the following comma separated input sequence is given to the program:\n",
    "# 100,150,180\n",
    "# The output of the program should be:\n",
    "# 18,22,24\n",
    "import math\n",
    "number=input(\"enter the  number: \")\n",
    "q=[]\n",
    "lis=str.split(number,',')\n",
    "for i in range(0,len(lis)):\n",
    "    m=math.sqrt((2*50*int(lis[i])/30))\n",
    "    q.append(m)\n",
    "    print(round(q[i]),end=' ')\n"
   ]
  },
  {
   "cell_type": "code",
   "execution_count": 12,
   "id": "334530a7",
   "metadata": {},
   "outputs": [
    {
     "name": "stdout",
     "output_type": "stream",
     "text": [
      "enter rows and columns: 3,5\n",
      "[[0, 0, 0, 0, 0], [0, 1, 2, 3, 4], [0, 2, 4, 6, 8]]\n"
     ]
    }
   ],
   "source": [
    "# 9. Write a program which takes 2 digits, \n",
    "# X,Y as input and generates a 2-dimensional array. \n",
    "# The element value in the i-th row and j-th column of the array should be i*j.\n",
    "# Note: i=0,1.., X-1; j=0,1,¡Y-1.\n",
    "# Example:\n",
    "# Suppose the following inputs are given to the program:\n",
    "# 3,5\n",
    "# Then, the output of the program should be:\n",
    "# [[0, 0, 0, 0, 0], [0, 1, 2, 3, 4], [0, 2, 4, 6, 8]]\n",
    "inp=input(\"enter rows and columns: \")\n",
    "li_r=[]\n",
    "li_c=[]\n",
    "li=inp.split(',')\n",
    "for i in range(0,int(li[0])):\n",
    "    for j in range(0,int(li[1])):\n",
    "        li_c.append(i*j)\n",
    "    li_r.append(li_c)\n",
    "    li_c=[]\n",
    "print(li_r)"
   ]
  },
  {
   "cell_type": "code",
   "execution_count": 21,
   "id": "9b88f57b",
   "metadata": {},
   "outputs": [
    {
     "name": "stdout",
     "output_type": "stream",
     "text": [
      "enter the string to arrange :without,hello,bag,world\n",
      "['bag', 'hello', 'without', 'world']\n"
     ]
    }
   ],
   "source": [
    "# 10. Write a program that accepts a comma separated sequence\n",
    "# of words as input and prints the words in a comma-separated\n",
    "# sequence after sorting them alphabetically.\n",
    "# Suppose the following input is supplied to the program:\n",
    "# without,hello,bag,world\n",
    "# Then, the output should be:\n",
    "# bag,hello,without,world\n",
    "inp=input(\"enter the string to arrange :\")\n",
    "inp_l=inp.split(',')\n",
    "print(sorted(inp_l))"
   ]
  },
  {
   "cell_type": "code",
   "execution_count": 27,
   "id": "eb1775c3",
   "metadata": {},
   "outputs": [
    {
     "name": "stdout",
     "output_type": "stream",
     "text": [
      "hello world\n",
      "practice makes perfect\n",
      "\n",
      "HELLO WORLD\n",
      "PRACTICE MAKES PERFECT\n"
     ]
    }
   ],
   "source": [
    "# 11. Write a program that accepts sequence of lines \n",
    "# as input and prints the lines after making all \n",
    "# characters in the sentence capitalized.\n",
    "# Suppose the following input is supplied to the program:\n",
    "# Hello world\n",
    "# Practice makes perfect\n",
    "# Then, the output should be:\n",
    "# HELLO WORLD\n",
    "# PRACTICE MAKES PERFECT\n",
    "lines=[]\n",
    "while(True):\n",
    "    inp=input()\n",
    "    if(inp):\n",
    "        lines.append(inp)\n",
    "    else:\n",
    "        break\n",
    "for i in lines:\n",
    "    print(i.upper())"
   ]
  },
  {
   "cell_type": "code",
   "execution_count": 36,
   "id": "6b9bcf1e",
   "metadata": {
    "scrolled": true
   },
   "outputs": [
    {
     "name": "stdout",
     "output_type": "stream",
     "text": [
      "enter the sentence: hello world and practice makes perfect and hello world again\n",
      "again and hello makes perfect practice world "
     ]
    }
   ],
   "source": [
    "# 12. Write a program that accepts a sequence of whitespace \n",
    "# separated words as input and prints the words after \n",
    "# removing all duplicate words and sorting them alphanumerically.\n",
    "# Suppose the following input is supplied to the program:\n",
    "# hello world and practice makes perfect and hello world again\n",
    "# Then, the output should be:\n",
    "# again and hello makes perfect practice world\n",
    "inp=input(\"enter the sentence: \")\n",
    "inp_l=inp.split(' ')\n",
    "inp_set=set(inp_l)\n",
    "for i in sorted(inp_set):\n",
    "    print(i,end=\" \")"
   ]
  },
  {
   "cell_type": "code",
   "execution_count": 47,
   "id": "a91a0f0b",
   "metadata": {
    "scrolled": true
   },
   "outputs": [
    {
     "name": "stdout",
     "output_type": "stream",
     "text": [
      "input:0100,0011,1010,1001\n",
      "output:  1010\n"
     ]
    }
   ],
   "source": [
    "# 13. Write a program which accepts a sequence of comma separated 4 digit\n",
    "# binary numbers as its input and then check whether they are \n",
    "# divisible by 5 or not. The numbers that are \n",
    "# divisible by 5 are to be printed in a comma separated sequence.\n",
    "# Example:\n",
    "# 0100,0011,1010,1001\n",
    "# Then the output should be:\n",
    "# 1010\n",
    "inp=input(\"input:\")\n",
    "bi=inp.split(\",\")\n",
    "for i in bi:\n",
    "    if(int(i,2) % 5 ==0):\n",
    "        print(\"output: \",i)"
   ]
  },
  {
   "cell_type": "code",
   "execution_count": 52,
   "id": "9694b74b",
   "metadata": {},
   "outputs": [
    {
     "name": "stdout",
     "output_type": "stream",
     "text": [
      "ENTER STRING:HELLO world\n",
      "UPPER CASE  5\n",
      "LOWER CASE  5\n"
     ]
    }
   ],
   "source": [
    "# 14. Write a program that accepts a sentence and calculate the number of upper case letters and lower case letters.\n",
    "# Suppose the following input is supplied to the program:\n",
    "# Hello world!\n",
    "# Then, the output should be:\n",
    "# UPPER CASE 1\n",
    "# LOWER CASE 9\n",
    "import re\n",
    "up,lo=0,0\n",
    "inp=input(\"ENTER STRING:\")\n",
    "for i in inp:\n",
    "    if(re.search('[a-z]',i)):\n",
    "        lo+=1\n",
    "    elif(re.search('[A-Z]',i)):\n",
    "        up+=1\n",
    "    else:\n",
    "        pass\n",
    "print(\"UPPER CASE \",up)\n",
    "print(\"LOWER CASE \",lo)\n"
   ]
  },
  {
   "cell_type": "code",
   "execution_count": 59,
   "id": "c2d17729",
   "metadata": {
    "scrolled": true
   },
   "outputs": [
    {
     "name": "stdout",
     "output_type": "stream",
     "text": [
      "344\n",
      "344.0\n"
     ]
    }
   ],
   "source": [
    "# 15. Give example of fsum and sum function of math library.\n",
    "import  math\n",
    "marks=[45,65,78,89,67]\n",
    "print(sum(marks))\n",
    "print(math.fsum(marks))"
   ]
  }
 ],
 "metadata": {
  "kernelspec": {
   "display_name": "Python 3",
   "language": "python",
   "name": "python3"
  },
  "language_info": {
   "codemirror_mode": {
    "name": "ipython",
    "version": 3
   },
   "file_extension": ".py",
   "mimetype": "text/x-python",
   "name": "python",
   "nbconvert_exporter": "python",
   "pygments_lexer": "ipython3",
   "version": "3.8.8"
  }
 },
 "nbformat": 4,
 "nbformat_minor": 5
}
