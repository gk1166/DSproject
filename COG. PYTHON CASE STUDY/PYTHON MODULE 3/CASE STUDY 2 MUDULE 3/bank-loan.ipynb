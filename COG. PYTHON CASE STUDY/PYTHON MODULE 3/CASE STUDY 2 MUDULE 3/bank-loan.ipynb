{
 "cells": [
  {
   "cell_type": "code",
   "execution_count": 2,
   "id": "d4b4caf7",
   "metadata": {
    "scrolled": false
   },
   "outputs": [
    {
     "name": "stdout",
     "output_type": "stream",
     "text": [
      "-profession: student\n",
      "-age:45\n",
      "customer is not eligible\n",
      "-profession: end\n",
      "{'self-employed', 'blue-collar', 'entrepreneur', 'student', 'services', 'technician', 'management', 'admin.', 'housemaid'}\n"
     ]
    }
   ],
   "source": [
    "import pandas as pd\n",
    "data=pd.read_csv(\"bank-data.csv\");\n",
    "jobs=data['job']\n",
    "unique_jobs=set(jobs)\n",
    "eligible_jobs=['technician','self-employed','housemaid','student','entrepreneur']\n",
    "inp=' '\n",
    "age_dict={\"min\":23,\"max\":45}\n",
    "while(True):\n",
    "    inp=input('-profession: ')\n",
    "    if(inp.lower()=='end'):\n",
    "        break\n",
    "    age=int(input('-age:'))\n",
    "    if(age > age_dict['min'] and age < age_dict['max']):\n",
    "        for i in unique_jobs:\n",
    "            if(inp.lower()==i):\n",
    "                print(inp,\"is in profession list and\",end=' ')\n",
    "                break\n",
    "        for i in eligible_jobs:\n",
    "            if(inp.lower()==i):\n",
    "                print(\"eligible for loan\")\n",
    "                eli=1\n",
    "        if(eli!=1):\n",
    "            print(\"customer not eligible for loan\")\n",
    "            break \n",
    "    else:\n",
    "        print('customer is not eligible')"
   ]
  },
  {
   "cell_type": "code",
   "execution_count": null,
   "id": "6b4663c6",
   "metadata": {},
   "outputs": [],
   "source": []
  }
 ],
 "metadata": {
  "kernelspec": {
   "display_name": "Python 3",
   "language": "python",
   "name": "python3"
  },
  "language_info": {
   "codemirror_mode": {
    "name": "ipython",
    "version": 3
   },
   "file_extension": ".py",
   "mimetype": "text/x-python",
   "name": "python",
   "nbconvert_exporter": "python",
   "pygments_lexer": "ipython3",
   "version": "3.8.8"
  }
 },
 "nbformat": 4,
 "nbformat_minor": 5
}
